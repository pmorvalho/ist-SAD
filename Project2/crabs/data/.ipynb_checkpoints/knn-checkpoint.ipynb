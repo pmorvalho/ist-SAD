{
 "cells": [
  {
   "cell_type": "code",
   "execution_count": 93,
   "metadata": {
    "collapsed": true
   },
   "outputs": [],
   "source": [
    "from sklearn.decomposition import PCA\n",
    "from sklearn.metrics import classification_report, confusion_matrix\n",
    "from sklearn.metrics import accuracy_score, roc_auc_score\n",
    "from sklearn.neighbors import KNeighborsClassifier\n",
    "from sklearn.model_selection import train_test_split\n",
    "from sklearn.model_selection import cross_val_score\n",
    "import pandas as pd\n",
    "import numpy as np"
   ]
  },
  {
   "cell_type": "code",
   "execution_count": 71,
   "metadata": {
    "collapsed": true
   },
   "outputs": [],
   "source": [
    "data = pd.read_csv(\"base_crabs.csv\")\n",
    "X = np.array(data.drop(\"class\",axis=1))\n",
    "y = np.array(data[\"class\"])\n",
    "target_names = np.array([\"B\",\"O\"])"
   ]
  },
  {
   "cell_type": "code",
   "execution_count": 72,
   "metadata": {
    "collapsed": false
   },
   "outputs": [],
   "source": [
    "X_train, X_test, y_train, y_test = train_test_split(X,y,test_size=0.3,random_state=0)"
   ]
  },
  {
   "cell_type": "code",
   "execution_count": 73,
   "metadata": {
    "collapsed": false
   },
   "outputs": [],
   "source": [
    "pca = PCA(n_components=2).fit(X_train)\n",
    "X_train_pca = pca.transform(X_train)\n",
    "X_test_pca = pca.transform(X_test)"
   ]
  },
  {
   "cell_type": "code",
   "execution_count": 97,
   "metadata": {
    "collapsed": false,
    "scrolled": true
   },
   "outputs": [
    {
     "name": "stdout",
     "output_type": "stream",
     "text": [
      "\n",
      "KNN classifier with 1 neighbors\n",
      "Cross-Validation (10-fold) score: 0.907070\n",
      "             precision    recall  f1-score   support\n",
      "\n",
      "          B       0.94      1.00      0.97        29\n",
      "          O       1.00      0.94      0.97        31\n",
      "\n",
      "avg / total       0.97      0.97      0.97        60\n",
      "\n",
      "[[29  0]\n",
      " [ 2 29]]\n",
      "Accuracy score: 0.966667\n",
      "ROC auc score: 0.967742\n",
      "\n",
      "KNN classifier with 3 neighbors\n",
      "Cross-Validation (10-fold) score: 0.908095\n",
      "             precision    recall  f1-score   support\n",
      "\n",
      "          B       0.93      0.97      0.95        29\n",
      "          O       0.97      0.94      0.95        31\n",
      "\n",
      "avg / total       0.95      0.95      0.95        60\n",
      "\n",
      "[[28  1]\n",
      " [ 2 29]]\n",
      "Accuracy score: 0.950000\n",
      "ROC auc score: 0.950501\n",
      "\n",
      "KNN classifier with 5 neighbors\n",
      "Cross-Validation (10-fold) score: 0.850403\n",
      "             precision    recall  f1-score   support\n",
      "\n",
      "          B       0.90      0.97      0.93        29\n",
      "          O       0.97      0.90      0.93        31\n",
      "\n",
      "avg / total       0.94      0.93      0.93        60\n",
      "\n",
      "[[28  1]\n",
      " [ 3 28]]\n",
      "Accuracy score: 0.933333\n",
      "ROC auc score: 0.934372\n",
      "\n",
      "KNN classifier with 7 neighbors\n",
      "Cross-Validation (10-fold) score: 0.815238\n",
      "             precision    recall  f1-score   support\n",
      "\n",
      "          B       0.90      0.97      0.93        29\n",
      "          O       0.97      0.90      0.93        31\n",
      "\n",
      "avg / total       0.94      0.93      0.93        60\n",
      "\n",
      "[[28  1]\n",
      " [ 3 28]]\n",
      "Accuracy score: 0.933333\n",
      "ROC auc score: 0.934372\n",
      "\n",
      "KNN classifier with 9 neighbors\n",
      "Cross-Validation (10-fold) score: 0.813590\n",
      "             precision    recall  f1-score   support\n",
      "\n",
      "          B       0.90      0.90      0.90        29\n",
      "          O       0.90      0.90      0.90        31\n",
      "\n",
      "avg / total       0.90      0.90      0.90        60\n",
      "\n",
      "[[26  3]\n",
      " [ 3 28]]\n",
      "Accuracy score: 0.900000\n",
      "ROC auc score: 0.899889\n"
     ]
    }
   ],
   "source": [
    "for n in range(1,10,2):\n",
    "    clf = KNeighborsClassifier(n_neighbors=n)\n",
    "    clf.fit(X_train,y_train)\n",
    "    y_pred = clf.predict(X_test)\n",
    "    print(\"\\nKNN classifier with %d neighbors\" % (n))\n",
    "    print(\"Cross-Validation (10-fold) score: %f\" % (cross_val_score(clf, X_train, y_train, cv=10).mean()))\n",
    "    print(classification_report(y_test,y_pred,target_names=target_names))\n",
    "    print(confusion_matrix(y_test,y_pred, labels=range(2)))\n",
    "    print(\"Accuracy score: %f\" % (accuracy_score(y_test,y_pred)))\n",
    "    print(\"ROC auc score: %f\" % (roc_auc_score(y_test,y_pred)))"
   ]
  },
  {
   "cell_type": "code",
   "execution_count": 96,
   "metadata": {
    "collapsed": false,
    "scrolled": false
   },
   "outputs": [
    {
     "name": "stdout",
     "output_type": "stream",
     "text": [
      "\n",
      "(PCA-version) KNN classifier with 1 neighbors\n",
      "Cross-Validation (10-fold) score: 0.742637\n",
      "             precision    recall  f1-score   support\n",
      "\n",
      "          B       0.79      0.90      0.84        29\n",
      "          O       0.89      0.77      0.83        31\n",
      "\n",
      "avg / total       0.84      0.83      0.83        60\n",
      "\n",
      "[[26  3]\n",
      " [ 7 24]]\n",
      "Accuracy score: 0.833333\n",
      "ROC auc score: 0.835373\n",
      "\n",
      "(PCA-version) KNN classifier with 3 neighbors\n",
      "Cross-Validation (10-fold) score: 0.750330\n",
      "             precision    recall  f1-score   support\n",
      "\n",
      "          B       0.81      0.90      0.85        29\n",
      "          O       0.89      0.81      0.85        31\n",
      "\n",
      "avg / total       0.85      0.85      0.85        60\n",
      "\n",
      "[[26  3]\n",
      " [ 6 25]]\n",
      "Accuracy score: 0.850000\n",
      "ROC auc score: 0.851502\n",
      "\n",
      "(PCA-version) KNN classifier with 5 neighbors\n",
      "Cross-Validation (10-fold) score: 0.771282\n",
      "             precision    recall  f1-score   support\n",
      "\n",
      "          B       0.86      0.86      0.86        29\n",
      "          O       0.87      0.87      0.87        31\n",
      "\n",
      "avg / total       0.87      0.87      0.87        60\n",
      "\n",
      "[[25  4]\n",
      " [ 4 27]]\n",
      "Accuracy score: 0.866667\n",
      "ROC auc score: 0.866518\n",
      "\n",
      "(PCA-version) KNN classifier with 7 neighbors\n",
      "Cross-Validation (10-fold) score: 0.749853\n",
      "             precision    recall  f1-score   support\n",
      "\n",
      "          B       0.83      0.83      0.83        29\n",
      "          O       0.84      0.84      0.84        31\n",
      "\n",
      "avg / total       0.83      0.83      0.83        60\n",
      "\n",
      "[[24  5]\n",
      " [ 5 26]]\n",
      "Accuracy score: 0.833333\n",
      "ROC auc score: 0.833148\n",
      "\n",
      "(PCA-version) KNN classifier with 9 neighbors\n",
      "Cross-Validation (10-fold) score: 0.756447\n",
      "             precision    recall  f1-score   support\n",
      "\n",
      "          B       0.88      0.79      0.84        29\n",
      "          O       0.82      0.90      0.86        31\n",
      "\n",
      "avg / total       0.85      0.85      0.85        60\n",
      "\n",
      "[[23  6]\n",
      " [ 3 28]]\n",
      "Accuracy score: 0.850000\n",
      "ROC auc score: 0.848165\n"
     ]
    }
   ],
   "source": [
    "for n in range(1,10,2):\n",
    "    clf = KNeighborsClassifier(n_neighbors=n)\n",
    "    clf.fit(X_train_pca,y_train)\n",
    "    y_pred = clf.predict(X_test_pca)\n",
    "    print(\"\\n(PCA-version) KNN classifier with %d neighbors\" % (n))\n",
    "    print(\"Cross-Validation (10-fold) score: %f\" % (cross_val_score(clf, X_train_pca, y_train, cv=10).mean()))\n",
    "    print(classification_report(y_test,y_pred,target_names=target_names))\n",
    "    print(confusion_matrix(y_test,y_pred, labels=range(2)))\n",
    "    print(\"Accuracy score: %f\" % (accuracy_score(y_test,y_pred)))\n",
    "    print(\"ROC auc score: %f\" % (roc_auc_score(y_test,y_pred)))"
   ]
  },
  {
   "cell_type": "code",
   "execution_count": null,
   "metadata": {
    "collapsed": true
   },
   "outputs": [],
   "source": []
  },
  {
   "cell_type": "code",
   "execution_count": null,
   "metadata": {
    "collapsed": true
   },
   "outputs": [],
   "source": []
  }
 ],
 "metadata": {
  "kernelspec": {
   "display_name": "Python 3",
   "language": "python",
   "name": "python3"
  },
  "language_info": {
   "codemirror_mode": {
    "name": "ipython",
    "version": 3
   },
   "file_extension": ".py",
   "mimetype": "text/x-python",
   "name": "python",
   "nbconvert_exporter": "python",
   "pygments_lexer": "ipython3",
   "version": "3.6.3"
  }
 },
 "nbformat": 4,
 "nbformat_minor": 2
}
